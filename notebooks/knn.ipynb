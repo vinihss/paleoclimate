{
 "cells": [
  {
   "metadata": {},
   "cell_type": "code",
   "source": "",
   "id": "a2af20cd7f49140",
   "outputs": [],
   "execution_count": null
  },
  {
   "metadata": {},
   "cell_type": "markdown",
   "source": "# Climate Prediction Model with K-Nearest Neighbors (KNN)\n",
   "id": "da629fb50b94fd66"
  },
  {
   "metadata": {},
   "cell_type": "markdown",
   "source": [
    "## 1. Imports and Setup\n",
    "In this section, we will import the necessary libraries for developing the model."
   ],
   "id": "9bcd6f4b125bac69"
  },
  {
   "metadata": {},
   "cell_type": "code",
   "source": [
    "import pandas as pd\n",
    "from sklearn.preprocessing import StandardScaler\n",
    "from sklearn.neighbors import KNeighborsClassifier\n",
    "import logging\n",
    "\n",
    "# Enable logging\n",
    "logging.basicConfig(level=logging.INFO)\n"
   ],
   "id": "a799a0c7ca86efb4",
   "outputs": [],
   "execution_count": null
  },
  {
   "metadata": {},
   "cell_type": "markdown",
   "source": [
    "## 2. KNNClimatePredictor Class\n",
    "The class below encapsulates the training and prediction of the KNN model based on age."
   ],
   "id": "3c2996bacd998718"
  },
  {
   "metadata": {},
   "cell_type": "code",
   "source": [
    "class KNNClimatePredictor:\n",
    "    def __init__(self, n_neighbors=3):\n",
    "        self.models_by_age = {}\n",
    "        self.scalers_by_age = {}\n",
    "        self.climate_mapping = {'h': 1, 's': 2, 't': 3, 'd': 4}\n",
    "        self.n_neighbors = n_neighbors\n",
    "\n",
    "    def train(self, climate_data):\n",
    "        try:\n",
    "            climate_data['climate'] = climate_data['climate'].map(self.climate_mapping)\n",
    "            climate_data = climate_data.dropna(subset=['climate'])\n",
    "\n",
    "            unique_ages = climate_data['age'].unique()\n",
    "            for age in unique_ages:\n",
    "                age_data = climate_data[climate_data['age'] == age]\n",
    "                features = age_data[['lat', 'long', 'paleontology_weight', 'lithology_weight', 'palynomorphs_weight', 'geochemistry_weight']]\n",
    "                target = age_data['climate']\n",
    "\n",
    "                scaler = StandardScaler()\n",
    "                features_scaled = scaler.fit_transform(features)\n",
    "\n",
    "                knn = KNeighborsClassifier(n_neighbors=self.n_neighbors)\n",
    "                knn.fit(features_scaled, target)\n",
    "\n",
    "                self.models_by_age[age] = knn\n",
    "                self.scalers_by_age[age] = scaler\n",
    "            logging.info('Model training completed successfully.')\n",
    "        except Exception as e:\n",
    "            logging.error(f'Error during training: {e}')\n",
    "\n",
    "    def predict(self, lat, lon, paleontology_weight, lithology_weight, palynomorphs_weight, geochemistry_weight, age):\n",
    "        try:\n",
    "            if age not in self.models_by_age:\n",
    "                raise ValueError(f'No trained model found for age: {age}')\n",
    "\n",
    "            scaler = self.scalers_by_age[age]\n",
    "            features = pd.DataFrame([[lat, lon, paleontology_weight, lithology_weight, palynomorphs_weight, geochemistry_weight]],\n",
    "                                    columns=['lat', 'long', 'paleontology_weight', 'lithology_weight', 'palynomorphs_weight', 'geochemistry_weight'])\n",
    "            features_scaled = scaler.transform(features)\n",
    "\n",
    "            knn = self.models_by_age[age]\n",
    "            prediction = knn.predict(features_scaled)\n",
    "            return prediction[0]\n",
    "        except Exception as e:\n",
    "            logging.error(f'Error during prediction: {e}')\n",
    "            return None\n"
   ],
   "id": "63ecdc44c2dda8b3",
   "outputs": [],
   "execution_count": null
  },
  {
   "metadata": {},
   "cell_type": "markdown",
   "source": [
    "## 3. Load Climate Data\n",
    "In this section, we will load the input data that will be used to train and test the KNN model."
   ],
   "id": "32c25d4fb8910f43"
  },
  {
   "metadata": {},
   "cell_type": "code",
   "source": [
    "# Example of loading data\n",
    "data = pd.read_csv('dataset/points.csv')\n",
    "display(data.head())\n"
   ],
   "id": "d5022b81e2799c42",
   "outputs": [],
   "execution_count": null
  },
  {
   "metadata": {},
   "cell_type": "markdown",
   "source": [
    "## 4. Train the Model\n",
    "We will train the KNN model using the loaded climate data."
   ],
   "id": "2108621db20a062e"
  },
  {
   "metadata": {},
   "cell_type": "code",
   "source": [
    "# Example usage\n",
    "knn_predictor = KNNClimatePredictor(n_neighbors=3)\n",
    "knn_predictor.train(data)\n"
   ],
   "id": "7087c96408df8849",
   "outputs": [],
   "execution_count": null
  },
  {
   "metadata": {},
   "cell_type": "markdown",
   "source": [
    "## 5. Predict with the Trained Model\n",
    "After training, we can make climate predictions based on latitude, longitude, and age."
   ],
   "id": "7b143c4f88793796"
  },
  {
   "metadata": {},
   "cell_type": "code",
   "source": [
    "# Example prediction\n",
    "prediction = knn_predictor.predict(lat=10.0, lon=20.0, age=140, paleontology_weight=0, lithology_weight=3, palynomorphs_weight=2, geochemistry_weight=1)\n",
    "print(f'Predicted climate: {prediction}')\n"
   ],
   "id": "ea85cac8e958020c",
   "outputs": [],
   "execution_count": null
  },
  {
   "metadata": {},
   "cell_type": "markdown",
   "source": [
    "## 6. Plotting Points on the Map\n",
    "Let's plot the prediction points on a map."
   ],
   "id": "ada1cbb03925ed63"
  },
  {
   "metadata": {},
   "cell_type": "code",
   "source": [
    "import geopandas as gpd\n",
    "import matplotlib.pyplot as plt\n",
    "import pandas as pd\n",
    "\n",
    "# Load data for prediction\n",
    "points_to_predict = pd.read_csv('dataset/points_to_predict.csv')\n",
    "display(points_to_predict.head())\n",
    "\n",
    "# Make predictions\n",
    "points_to_predict['predicted_climate'] = points_to_predict.apply(\n",
    "    lambda row: knn_predictor.predict(\n",
    "        lat=row['lat'],\n",
    "        lon=row['long'],\n",
    "        paleontology_weight=row['paleontology_weight'],\n",
    "        lithology_weight=row['lithology_weight'],\n",
    "        palynomorphs_weight=row['palynomorphs_weight'],\n",
    "        geochemistry_weight=row['geochemistry_weight'],\n",
    "        age=row['age']\n",
    "    ), axis=1\n",
    ")\n",
    "\n",
    "# Display predictions\n",
    "display(points_to_predict.head())\n",
    "\n",
    "# Convert DataFrame to GeoDataFrame\n",
    "gdf = gpd.GeoDataFrame(\n",
    "    points_to_predict,\n",
    "    geometry=gpd.points_from_xy(points_to_predict.long, points_to_predict.lat)\n",
    ")\n",
    "\n",
    "# Plot points on the map\n",
    "world = gpd.read_file('data/ne_110m_admin_0_countries.shp')  # Update the path to the local file\n",
    "fig, ax = plt.subplots(figsize=(15, 10))\n",
    "world.boundary.plot(ax=ax)\n",
    "gdf.plot(ax=ax, color='red', markersize=5)\n",
    "plt.title('Prediction Points on the Map')\n",
    "plt.xlabel('Longitude')\n",
    "plt.ylabel('Latitude')\n",
    "plt.show()"
   ],
   "id": "a99027780760f914",
   "outputs": [],
   "execution_count": null
  }
 ],
 "metadata": {
  "kernelspec": {
   "display_name": "Python 3",
   "language": "python",
   "name": "python3"
  },
  "language_info": {
   "codemirror_mode": {
    "name": "ipython",
    "version": 2
   },
   "file_extension": ".py",
   "mimetype": "text/x-python",
   "name": "python",
   "nbconvert_exporter": "python",
   "pygments_lexer": "ipython2",
   "version": "2.7.6"
  }
 },
 "nbformat": 4,
 "nbformat_minor": 5
}
