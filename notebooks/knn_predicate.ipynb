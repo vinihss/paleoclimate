{
 "cells": [
  {
   "cell_type": "code",
   "id": "initial_id",
   "metadata": {
    "collapsed": true,
    "ExecuteTime": {
     "end_time": "2024-10-14T04:24:01.945204Z",
     "start_time": "2024-10-14T04:24:01.769054Z"
    }
   },
   "source": [
    "import geopandas as gpd\n",
    "\n",
    "import pandas as pd\n",
    "import matplotlib.pyplot as plt\n",
    "from scipy.interpolate import griddata\n",
    "import numpy as np\n"
   ],
   "outputs": [],
   "execution_count": 10
  },
  {
   "metadata": {},
   "cell_type": "code",
   "outputs": [],
   "execution_count": null,
   "source": "",
   "id": "3e079a11c3b2090a"
  },
  {
   "metadata": {
    "ExecuteTime": {
     "end_time": "2024-10-14T03:52:38.234943Z",
     "start_time": "2024-10-14T03:52:38.227967Z"
    }
   },
   "cell_type": "code",
   "source": [
    "climate_data = pd.read_csv('dataset/points.csv')\n",
    "climate_data.head()\n"
   ],
   "id": "8455d8d8cb4c9003",
   "outputs": [
    {
     "data": {
      "text/plain": [
       "   age          basin    lat  long climate\n",
       "0  145  camamu-almada -13.83 -38.5       h\n",
       "1  145  camamu-almada -13.83 -38.5       h\n",
       "2  145  camamu-almada -13.83 -38.5       h\n",
       "3  140        araripe  -7.50 -39.5       h\n",
       "4  140  Camamu-almada -13.83 -38.5       h"
      ],
      "text/html": [
       "<div>\n",
       "<style scoped>\n",
       "    .dataframe tbody tr th:only-of-type {\n",
       "        vertical-align: middle;\n",
       "    }\n",
       "\n",
       "    .dataframe tbody tr th {\n",
       "        vertical-align: top;\n",
       "    }\n",
       "\n",
       "    .dataframe thead th {\n",
       "        text-align: right;\n",
       "    }\n",
       "</style>\n",
       "<table border=\"1\" class=\"dataframe\">\n",
       "  <thead>\n",
       "    <tr style=\"text-align: right;\">\n",
       "      <th></th>\n",
       "      <th>age</th>\n",
       "      <th>basin</th>\n",
       "      <th>lat</th>\n",
       "      <th>long</th>\n",
       "      <th>climate</th>\n",
       "    </tr>\n",
       "  </thead>\n",
       "  <tbody>\n",
       "    <tr>\n",
       "      <th>0</th>\n",
       "      <td>145</td>\n",
       "      <td>camamu-almada</td>\n",
       "      <td>-13.83</td>\n",
       "      <td>-38.5</td>\n",
       "      <td>h</td>\n",
       "    </tr>\n",
       "    <tr>\n",
       "      <th>1</th>\n",
       "      <td>145</td>\n",
       "      <td>camamu-almada</td>\n",
       "      <td>-13.83</td>\n",
       "      <td>-38.5</td>\n",
       "      <td>h</td>\n",
       "    </tr>\n",
       "    <tr>\n",
       "      <th>2</th>\n",
       "      <td>145</td>\n",
       "      <td>camamu-almada</td>\n",
       "      <td>-13.83</td>\n",
       "      <td>-38.5</td>\n",
       "      <td>h</td>\n",
       "    </tr>\n",
       "    <tr>\n",
       "      <th>3</th>\n",
       "      <td>140</td>\n",
       "      <td>araripe</td>\n",
       "      <td>-7.50</td>\n",
       "      <td>-39.5</td>\n",
       "      <td>h</td>\n",
       "    </tr>\n",
       "    <tr>\n",
       "      <th>4</th>\n",
       "      <td>140</td>\n",
       "      <td>Camamu-almada</td>\n",
       "      <td>-13.83</td>\n",
       "      <td>-38.5</td>\n",
       "      <td>h</td>\n",
       "    </tr>\n",
       "  </tbody>\n",
       "</table>\n",
       "</div>"
      ]
     },
     "execution_count": 7,
     "metadata": {},
     "output_type": "execute_result"
    }
   ],
   "execution_count": 7
  },
  {
   "metadata": {},
   "cell_type": "markdown",
   "source": "",
   "id": "6cc3ecd1fff1695"
  },
  {
   "metadata": {
    "ExecuteTime": {
     "end_time": "2024-10-14T03:53:24.416685Z",
     "start_time": "2024-10-14T03:53:24.384123Z"
    }
   },
   "cell_type": "code",
   "source": [
    "\n",
    "# Criar a geometria a partir de lat e long\n",
    "gdf = gpd.GeoDataFrame(climate_data, geometry=gpd.points_from_xy(climate_data['long'], climate_data['lat']))\n",
    "\n",
    "# Definir o CRS (Sistema de Referência de Coordenadas), por exemplo, WGS84 (EPSG:4326)\n",
    "gdf.set_crs(epsg=4326, inplace=True)\n",
    "\n",
    "# Mapeamento de climas (ajuste conforme os dados do seu CSV)\n",
    "climate_mapping = {\n",
    "    'h': 1,  # Exemplo: \"h\" para 1\n",
    "    'm': 2,  # Exemplo: \"m\" para 2\n",
    "    'l': 3   # Exemplo: \"l\" para 3\n",
    "    # Adicione outros mapeamentos conforme necessário\n",
    "}\n",
    "gdf['climate'] = gdf['climate'].map(climate_mapping)\n",
    "\n",
    "# Extrair coordenadas e valores\n",
    "latitudes = gdf['lat']\n",
    "longitudes = gdf['long']\n",
    "valores = gdf['climate']  # Agora deve ser numérico\n",
    "\n",
    "# Criar uma grade para interpolação\n",
    "grid_lat, grid_lon = np.mgrid[min(latitudes):max(latitudes):100j,\n",
    "                     min(longitudes):max(longitudes):100j]\n",
    "grid_values = griddata((latitudes, longitudes), valores,\n",
    "                       (grid_lon, grid_lat), method='cubic')\n",
    "\n",
    "# Plotar o mapa\n",
    "plt.imshow(grid_values.T, extent=(min(longitudes), max(longitudes),\n",
    "                                  min(latitudes), max(latitudes)), origin='lower')\n",
    "plt.scatter(longitudes, latitudes, c='red')  # Ponto original\n",
    "plt.colorbar(label='Clima')\n",
    "plt.title('Interpolação de Clima')\n",
    "plt.xlabel('Longitude')\n",
    "plt.ylabel('Latitude')\n",
    "plt.show()\n"
   ],
   "id": "cffba627ccdf9830",
   "outputs": [
    {
     "ename": "NameError",
     "evalue": "name 'gpd' is not defined",
     "output_type": "error",
     "traceback": [
      "\u001B[0;31m---------------------------------------------------------------------------\u001B[0m",
      "\u001B[0;31mNameError\u001B[0m                                 Traceback (most recent call last)",
      "Cell \u001B[0;32mIn[8], line 2\u001B[0m\n\u001B[1;32m      1\u001B[0m \u001B[38;5;66;03m# Criar a geometria a partir de lat e long\u001B[39;00m\n\u001B[0;32m----> 2\u001B[0m gdf \u001B[38;5;241m=\u001B[39m gpd\u001B[38;5;241m.\u001B[39mGeoDataFrame(climate_data, geometry\u001B[38;5;241m=\u001B[39mgpd\u001B[38;5;241m.\u001B[39mpoints_from_xy(climate_data[\u001B[38;5;124m'\u001B[39m\u001B[38;5;124mlong\u001B[39m\u001B[38;5;124m'\u001B[39m], climate_data[\u001B[38;5;124m'\u001B[39m\u001B[38;5;124mlat\u001B[39m\u001B[38;5;124m'\u001B[39m]))\n\u001B[1;32m      4\u001B[0m \u001B[38;5;66;03m# Definir o CRS (Sistema de Referência de Coordenadas), por exemplo, WGS84 (EPSG:4326)\u001B[39;00m\n\u001B[1;32m      5\u001B[0m gdf\u001B[38;5;241m.\u001B[39mset_crs(epsg\u001B[38;5;241m=\u001B[39m\u001B[38;5;241m4326\u001B[39m, inplace\u001B[38;5;241m=\u001B[39m\u001B[38;5;28;01mTrue\u001B[39;00m)\n",
      "\u001B[0;31mNameError\u001B[0m: name 'gpd' is not defined"
     ]
    }
   ],
   "execution_count": 8
  }
 ],
 "metadata": {
  "kernelspec": {
   "display_name": "Python 3",
   "language": "python",
   "name": "python3"
  },
  "language_info": {
   "codemirror_mode": {
    "name": "ipython",
    "version": 2
   },
   "file_extension": ".py",
   "mimetype": "text/x-python",
   "name": "python",
   "nbconvert_exporter": "python",
   "pygments_lexer": "ipython2",
   "version": "2.7.6"
  }
 },
 "nbformat": 4,
 "nbformat_minor": 5
}
